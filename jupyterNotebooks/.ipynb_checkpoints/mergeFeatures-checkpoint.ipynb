{
 "cells": [
  {
   "cell_type": "code",
   "execution_count": 1,
   "id": "d557761e-0af0-4c8b-8f78-533d13222d0c",
   "metadata": {},
   "outputs": [],
   "source": [
    "import pandas as pd\n",
    "\n",
    "def merge_csv_files(file_paths, key_column='source_file'):\n",
    "    \"\"\"\n",
    "    Merge multiple CSV files based on a shared key column, combining features from all files.\n",
    "\n",
    "    Args:\n",
    "        file_paths (list of str): List of file paths to the CSV files to be merged.\n",
    "        key_column (str): The name of the column to merge the files on (default is 'source_file').\n",
    "\n",
    "    Returns:\n",
    "        pd.DataFrame: A DataFrame containing the merged data.\n",
    "    \"\"\"\n",
    "    # Initialize an empty DataFrame for merging\n",
    "    merged_df = pd.DataFrame()\n",
    "\n",
    "    for file_path in file_paths:\n",
    "        # Read the current CSV file\n",
    "        current_df = pd.read_csv(file_path)\n",
    "\n",
    "        # Ensure the key column exists\n",
    "        if key_column not in current_df.columns:\n",
    "            raise ValueError(f\"Key column '{key_column}' not found in file: {file_path}\")\n",
    "\n",
    "        # Merge with the accumulated DataFrame\n",
    "        if merged_df.empty:\n",
    "            merged_df = current_df\n",
    "        else:\n",
    "            merged_df = pd.merge(merged_df, current_df, on=key_column, how='outer')\n",
    "\n",
    "    return merged_df"
   ]
  },
  {
   "cell_type": "code",
   "execution_count": 3,
   "id": "daffda34-3779-4f2f-9cfb-4597b7382fe7",
   "metadata": {},
   "outputs": [],
   "source": [
    "src = \"/home/udayan/AaFiles/Speech/SpeakerIdentification-Assamese/Data/\""
   ]
  },
  {
   "cell_type": "code",
   "execution_count": 4,
   "id": "5935739d-61ec-4864-9c44-c75336c0fd9f",
   "metadata": {},
   "outputs": [],
   "source": [
    "files = [\"articulation.csv\", \"glottal.csv\", \"phonation.csv\", \"prosody.csv\"]"
   ]
  },
  {
   "cell_type": "code",
   "execution_count": 5,
   "id": "fd9c1c2c-b2cf-4ea0-8e76-1ba8c5b73e25",
   "metadata": {},
   "outputs": [
    {
     "ename": "TypeError",
     "evalue": "can only concatenate str (not \"generator\") to str",
     "output_type": "error",
     "traceback": [
      "\u001b[0;31m---------------------------------------------------------------------------\u001b[0m",
      "\u001b[0;31mTypeError\u001b[0m                                 Traceback (most recent call last)",
      "Cell \u001b[0;32mIn[5], line 1\u001b[0m\n\u001b[0;32m----> 1\u001b[0m files \u001b[38;5;241m=\u001b[39m [src \u001b[38;5;241m+\u001b[39m (file \u001b[38;5;28;01mfor\u001b[39;00m file \u001b[38;5;129;01min\u001b[39;00m files)]\n",
      "\u001b[0;31mTypeError\u001b[0m: can only concatenate str (not \"generator\") to str"
     ]
    }
   ],
   "source": [
    "files = [src + file for file in files]"
   ]
  },
  {
   "cell_type": "code",
   "execution_count": null,
   "id": "3392d28b-feb8-4b59-93f0-374b811e6b88",
   "metadata": {},
   "outputs": [],
   "source": []
  }
 ],
 "metadata": {
  "kernelspec": {
   "display_name": "Python 3 (ipykernel)",
   "language": "python",
   "name": "python3"
  },
  "language_info": {
   "codemirror_mode": {
    "name": "ipython",
    "version": 3
   },
   "file_extension": ".py",
   "mimetype": "text/x-python",
   "name": "python",
   "nbconvert_exporter": "python",
   "pygments_lexer": "ipython3",
   "version": "3.12.8"
  }
 },
 "nbformat": 4,
 "nbformat_minor": 5
}
