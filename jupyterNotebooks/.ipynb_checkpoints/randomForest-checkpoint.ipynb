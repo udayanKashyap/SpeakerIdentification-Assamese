{
 "cells": [
  {
   "cell_type": "markdown",
   "id": "e1aff356-4b47-4b3f-8fb7-8b117dd03b25",
   "metadata": {},
   "source": [
    "Import necessary modules"
   ]
  },
  {
   "cell_type": "code",
   "execution_count": 25,
   "id": "5cbe8896-70cf-46e4-ad89-335f5debe071",
   "metadata": {},
   "outputs": [],
   "source": [
    "import pandas as pd\n",
    "import numpy as np\n",
    "from sklearn.model_selection import train_test_split\n",
    "from sklearn.ensemble import RandomForestClassifier\n",
    "from sklearn.metrics import accuracy_score, classification_report\n",
    "from sklearn.preprocessing import StandardScaler, LabelEncoder\n",
    "from sklearn.svm import SVC\n",
    "from sklearn.model_selection import KFold\n",
    "from sklearn.model_selection import train_test_split, cross_val_score\n",
    "import pprint\n"
   ]
  },
  {
   "cell_type": "code",
   "execution_count": 26,
   "id": "2043247e-9708-4d45-abc7-64e225eeea77",
   "metadata": {},
   "outputs": [],
   "source": [
    "# Load the dataset\n",
    "dataset = pd.read_csv('articulation.csv')\n"
   ]
  },
  {
   "cell_type": "code",
   "execution_count": 27,
   "id": "b921a6a3-aded-41d4-992a-dc7c75c73b75",
   "metadata": {},
   "outputs": [],
   "source": [
    "dataset[\"class\"] = dataset[\"source_file\"].str[:4]\n",
    "label_encoder = LabelEncoder()\n",
    "dataset['class'] = label_encoder.fit_transform(dataset['class'])"
   ]
  },
  {
   "cell_type": "code",
   "execution_count": 28,
   "id": "10d6ee21-9568-4460-95aa-015b465563be",
   "metadata": {},
   "outputs": [],
   "source": [
    "# Drop rows with null values\n",
    "dataset = dataset.dropna()"
   ]
  },
  {
   "cell_type": "code",
   "execution_count": 29,
   "id": "2d0e790c-6689-4f3d-9859-0712fb0d2b41",
   "metadata": {},
   "outputs": [],
   "source": [
    "# Drop the 'source_file' column\n",
    "dataset = dataset.drop(columns=['source_file'])"
   ]
  },
  {
   "cell_type": "code",
   "execution_count": 30,
   "id": "15709841-4c43-42ff-9921-aa8153ee701a",
   "metadata": {},
   "outputs": [
    {
     "name": "stdout",
     "output_type": "stream",
     "text": [
      "          F0avg      F0std       F0max       F0min    F0skew    F0kurt  \\\n",
      "0    238.371429  44.012276  342.379425  177.752762  0.895443 -0.410455   \n",
      "1     90.465897   7.410585  105.524254   68.620880 -1.015772  1.086469   \n",
      "3    114.077538  10.912787  160.288971   88.383728  0.334190  1.025601   \n",
      "4     98.129105  14.027131  128.930084   68.259491 -0.303015 -0.624684   \n",
      "6    241.927292  33.384712  344.372009  159.186646  0.409021  0.481048   \n",
      "..          ...        ...         ...         ...       ...       ...   \n",
      "902   96.018967  13.062055  127.535919   66.092972  0.054733 -0.614290   \n",
      "903   87.676575   9.428632  113.922241   71.152397  0.548865  0.124079   \n",
      "904  244.390976  41.147018  335.898987  104.362671 -0.767931  1.466170   \n",
      "905  242.875046  40.873779  331.949524  100.615349 -0.679745  2.064241   \n",
      "906  261.725922  44.299614  333.925385  145.295914 -0.615663 -0.459077   \n",
      "\n",
      "      F0tiltavg    F0mseavg   F0tiltstd    F0msestd  ...  kurtosisdurpause  \\\n",
      "0     21.600249  703.871974  395.197341  695.230399  ...               0.0   \n",
      "1    -23.174289   26.186505   11.607894   13.497239  ...               0.0   \n",
      "3     -2.366647   64.925628   59.430141   31.850328  ...               0.0   \n",
      "4    -85.227564   18.154519  115.933813   21.713159  ...               0.0   \n",
      "6    -35.007253  585.866168  217.341286  994.011462  ...              -2.0   \n",
      "..          ...         ...         ...         ...  ...               ...   \n",
      "902  -97.146094   14.594556   98.014654   12.754272  ...              -2.0   \n",
      "903  -75.885561   20.958106   83.989403   17.607612  ...              -2.0   \n",
      "904  140.859261  400.586151  286.326304  350.194849  ...               0.0   \n",
      "905 -241.656268  619.011695  265.660160  583.648357  ...               0.0   \n",
      "906   53.727418  936.222422   81.363907  625.739503  ...               0.0   \n",
      "\n",
      "     maxdurpause  mindurpause       PVU        PU       UVU       VVU  \\\n",
      "0           0.00         0.00  0.000000  0.000000  0.000000  0.000000   \n",
      "1           0.00         0.00  0.000000  0.000000  0.000000  0.000000   \n",
      "3           0.00         0.00  0.000000  0.000000  0.000000  0.000000   \n",
      "4           0.00         0.00  0.000000  0.000000  0.000000  0.000000   \n",
      "6           0.47         0.26  0.813412  5.530303  0.147083  0.852917   \n",
      "..           ...          ...       ...       ...       ...       ...   \n",
      "902         0.88         0.39  2.739365  8.327869  0.328939  0.671061   \n",
      "903         0.30         0.16  0.867925  3.066667  0.283019  0.716981   \n",
      "904         0.00         0.00  0.000000  0.000000  0.000000  0.000000   \n",
      "905         0.00         0.00  0.000000  0.000000  0.000000  0.000000   \n",
      "906         0.00         0.00  0.000000  0.000000  0.000000  0.000000   \n",
      "\n",
      "           VP        UP  class  \n",
      "0    0.000000  0.000000      1  \n",
      "1    0.000000  0.000000      3  \n",
      "3    0.000000  0.000000      2  \n",
      "4    0.000000  0.000000      2  \n",
      "6    1.048568  0.180822      0  \n",
      "..        ...       ...    ...  \n",
      "902  0.244969  0.120079      3  \n",
      "903  0.826087  0.326087      2  \n",
      "904  0.000000  0.000000      0  \n",
      "905  0.000000  0.000000      0  \n",
      "906  0.000000  0.000000      0  \n",
      "\n",
      "[710 rows x 104 columns]\n"
     ]
    }
   ],
   "source": [
    "print(dataset)"
   ]
  },
  {
   "cell_type": "code",
   "execution_count": 31,
   "id": "17a2f317-7233-410d-ac03-e44d479b553b",
   "metadata": {},
   "outputs": [
    {
     "name": "stdout",
     "output_type": "stream",
     "text": [
      "(710, 103)\n"
     ]
    }
   ],
   "source": [
    "# Separate features and target variable\n",
    "X = dataset.drop(columns=['class'])\n",
    "y = dataset['class']\n",
    "print(X.shape)"
   ]
  },
  {
   "cell_type": "code",
   "execution_count": 32,
   "id": "c01623f6-65c0-4176-abfa-13cb8970724e",
   "metadata": {},
   "outputs": [],
   "source": [
    "# Normalize the feature data\n",
    "scaler = StandardScaler()\n",
    "X_normalized = scaler.fit_transform(X)"
   ]
  },
  {
   "cell_type": "code",
   "execution_count": 33,
   "id": "c77fce6f-9a59-41a1-8ecf-8365ce8fc468",
   "metadata": {},
   "outputs": [
    {
     "name": "stdout",
     "output_type": "stream",
     "text": [
      "(710, 103)\n"
     ]
    }
   ],
   "source": [
    "print(X_normalized.shape)"
   ]
  },
  {
   "cell_type": "code",
   "execution_count": 34,
   "id": "ab4152ce-20ee-4f93-bca7-b4b658073db3",
   "metadata": {},
   "outputs": [],
   "source": [
    "# Split the data into training and testing sets\n",
    "X_train, X_test, y_train, y_test = train_test_split(X_normalized, y, test_size=0.2, random_state=42)"
   ]
  },
  {
   "cell_type": "code",
   "execution_count": 35,
   "id": "29fcf2eb-9fe7-44ba-8e69-92c61dbdf51c",
   "metadata": {},
   "outputs": [],
   "source": [
    "# Initialize and train the Random Forest Classifier\n",
    "rf_model = RandomForestClassifier(random_state=42)\n"
   ]
  },
  {
   "cell_type": "code",
   "execution_count": 36,
   "id": "5daf6ffb-b255-406b-acc9-20ae897b0699",
   "metadata": {},
   "outputs": [],
   "source": [
    "kf = KFold(n_splits=5, shuffle=True, random_state=42)\n",
    "scores = cross_val_score(rf_model, X_normalized, y, cv=kf, scoring='accuracy')"
   ]
  },
  {
   "cell_type": "code",
   "execution_count": 37,
   "id": "e69e4277-baf3-478d-b3cd-4844f7b07476",
   "metadata": {},
   "outputs": [
    {
     "name": "stdout",
     "output_type": "stream",
     "text": [
      "array([0.91549296, 0.95070423, 0.8943662 , 0.91549296, 0.92957746])\n",
      "Mean Accuracy: 0.9211267605633802\n"
     ]
    }
   ],
   "source": [
    "pprint.pp(scores)\n",
    "print(\"Mean Accuracy:\", scores.mean())"
   ]
  },
  {
   "cell_type": "code",
   "execution_count": null,
   "id": "c5e52255-5282-4cab-97f1-8782c03b53ec",
   "metadata": {},
   "outputs": [],
   "source": []
  }
 ],
 "metadata": {
  "kernelspec": {
   "display_name": "Python 3 (ipykernel)",
   "language": "python",
   "name": "python3"
  },
  "language_info": {
   "codemirror_mode": {
    "name": "ipython",
    "version": 3
   },
   "file_extension": ".py",
   "mimetype": "text/x-python",
   "name": "python",
   "nbconvert_exporter": "python",
   "pygments_lexer": "ipython3",
   "version": "3.12.8"
  }
 },
 "nbformat": 4,
 "nbformat_minor": 5
}
