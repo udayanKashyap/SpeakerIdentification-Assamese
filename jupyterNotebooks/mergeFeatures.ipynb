{
 "cells": [
  {
   "cell_type": "code",
   "execution_count": 6,
   "id": "d557761e-0af0-4c8b-8f78-533d13222d0c",
   "metadata": {},
   "outputs": [],
   "source": [
    "import pandas as pd\n",
    "\n",
    "def merge_csv_files(file_paths, key_column='source_file'):\n",
    "    \"\"\"\n",
    "    Merge multiple CSV files based on a shared key column, combining features from all files.\n",
    "\n",
    "    Args:\n",
    "        file_paths (list of str): List of file paths to the CSV files to be merged.\n",
    "        key_column (str): The name of the column to merge the files on (default is 'source_file').\n",
    "\n",
    "    Returns:\n",
    "        pd.DataFrame: A DataFrame containing the merged data.\n",
    "    \"\"\"\n",
    "    # Initialize an empty DataFrame for merging\n",
    "    merged_df = pd.DataFrame()\n",
    "\n",
    "    for file_path in file_paths:\n",
    "        # Read the current CSV file\n",
    "        current_df = pd.read_csv(file_path)\n",
    "\n",
    "        # Ensure the key column exists\n",
    "        if key_column not in current_df.columns:\n",
    "            raise ValueError(f\"Key column '{key_column}' not found in file: {file_path}\")\n",
    "\n",
    "        # Merge with the accumulated DataFrame\n",
    "        if merged_df.empty:\n",
    "            merged_df = current_df\n",
    "        else:\n",
    "            merged_df = pd.merge(merged_df, current_df, on=key_column, how='outer')\n",
    "\n",
    "    return merged_df"
   ]
  },
  {
   "cell_type": "code",
   "execution_count": 7,
   "id": "daffda34-3779-4f2f-9cfb-4597b7382fe7",
   "metadata": {},
   "outputs": [],
   "source": [
    "src = \"/home/udayan/AaFiles/Speech/SpeakerIdentification-Assamese/jupyterNotebooks/datasets/\""
   ]
  },
  {
   "cell_type": "code",
   "execution_count": 8,
   "id": "5935739d-61ec-4864-9c44-c75336c0fd9f",
   "metadata": {},
   "outputs": [],
   "source": [
    "files = []\n",
    "files.append(\"articulation_old.csv\")\n",
    "# files.append(\"glottal.csv\")\n",
    "# files.append(\"phonation.csv\")\n",
    "files.append(\"prosody_old.csv\")"
   ]
  },
  {
   "cell_type": "code",
   "execution_count": 9,
   "id": "fd9c1c2c-b2cf-4ea0-8e76-1ba8c5b73e25",
   "metadata": {},
   "outputs": [],
   "source": [
    "files = [src + file for file in files]"
   ]
  },
  {
   "cell_type": "code",
   "execution_count": 10,
   "id": "1266929f-e62d-438d-959a-c7e20821e105",
   "metadata": {},
   "outputs": [],
   "source": [
    "merged_data = merge_csv_files(files)"
   ]
  },
  {
   "cell_type": "code",
   "execution_count": 11,
   "id": "5df727bc-4c1c-4b5d-ace4-d3f99163acd5",
   "metadata": {},
   "outputs": [],
   "source": [
    "merged_data.to_csv(\"datasets/articulation_prosody_old.csv\", index=False)"
   ]
  },
  {
   "cell_type": "code",
   "execution_count": null,
   "id": "cf7a4845-e08b-42b7-ad67-6c7265b158b0",
   "metadata": {},
   "outputs": [],
   "source": []
  }
 ],
 "metadata": {
  "kernelspec": {
   "display_name": "Python 3 (ipykernel)",
   "language": "python",
   "name": "python3"
  },
  "language_info": {
   "codemirror_mode": {
    "name": "ipython",
    "version": 3
   },
   "file_extension": ".py",
   "mimetype": "text/x-python",
   "name": "python",
   "nbconvert_exporter": "python",
   "pygments_lexer": "ipython3",
   "version": "3.12.8"
  }
 },
 "nbformat": 4,
 "nbformat_minor": 5
}
