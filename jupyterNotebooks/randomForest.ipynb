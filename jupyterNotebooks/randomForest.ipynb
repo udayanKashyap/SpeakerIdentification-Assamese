{
 "cells": [
  {
   "cell_type": "markdown",
   "id": "e1aff356-4b47-4b3f-8fb7-8b117dd03b25",
   "metadata": {},
   "source": [
    "Import necessary modules"
   ]
  },
  {
   "cell_type": "code",
   "execution_count": 67,
   "id": "5cbe8896-70cf-46e4-ad89-335f5debe071",
   "metadata": {},
   "outputs": [],
   "source": [
    "import pandas as pd\n",
    "import numpy as np\n",
    "from sklearn.model_selection import train_test_split\n",
    "from sklearn.ensemble import RandomForestClassifier\n",
    "from sklearn.metrics import accuracy_score, classification_report\n",
    "from sklearn.preprocessing import StandardScaler, LabelEncoder\n",
    "from sklearn.svm import SVC\n",
    "from sklearn.model_selection import KFold\n",
    "from sklearn.model_selection import train_test_split, cross_val_score\n",
    "import pprint\n"
   ]
  },
  {
   "cell_type": "code",
   "execution_count": 68,
   "id": "2043247e-9708-4d45-abc7-64e225eeea77",
   "metadata": {},
   "outputs": [],
   "source": [
    "# Load the dataset\n",
    "dataset = pd.read_csv('datasets/phonation.csv')\n"
   ]
  },
  {
   "cell_type": "code",
   "execution_count": 69,
   "id": "b921a6a3-aded-41d4-992a-dc7c75c73b75",
   "metadata": {},
   "outputs": [],
   "source": [
    "dataset[\"class\"] = dataset[\"source_file\"].str[:4]\n",
    "label_encoder = LabelEncoder()\n",
    "dataset['class'] = label_encoder.fit_transform(dataset['class'])"
   ]
  },
  {
   "cell_type": "code",
   "execution_count": 70,
   "id": "10d6ee21-9568-4460-95aa-015b465563be",
   "metadata": {},
   "outputs": [],
   "source": [
    "# Drop rows with null values\n",
    "dataset = dataset.dropna()"
   ]
  },
  {
   "cell_type": "code",
   "execution_count": 71,
   "id": "2d0e790c-6689-4f3d-9859-0712fb0d2b41",
   "metadata": {},
   "outputs": [],
   "source": [
    "# Drop the 'source_file' column\n",
    "dataset = dataset.drop(columns=['source_file'])"
   ]
  },
  {
   "cell_type": "code",
   "execution_count": 72,
   "id": "15709841-4c43-42ff-9921-aa8153ee701a",
   "metadata": {},
   "outputs": [
    {
     "name": "stdout",
     "output_type": "stream",
     "text": [
      "      avg DF0  avg DDF0  avg Jitter  avg Shimmer    avg apq   avg ppq  \\\n",
      "0   -0.689701 -0.154107    5.186153     8.595405  26.417864  6.123561   \n",
      "1   -0.452383 -0.054730    3.280561     7.292266  11.901667  2.758843   \n",
      "2   -0.300312 -0.041383    3.915843    13.000368  19.847925  3.823546   \n",
      "3   -0.327381  0.143272    3.817988     4.178263   4.926572  3.782958   \n",
      "4   -0.412879 -0.401515    4.418473     6.818965  10.745099  3.807577   \n",
      "..        ...       ...         ...          ...        ...       ...   \n",
      "903 -0.734472 -0.172394    4.645327    13.935182  28.065810  4.234599   \n",
      "904 -0.192419  0.280107    4.594869     6.775348  25.966223  4.771735   \n",
      "905 -0.058561  0.055881    4.587401     8.632771  37.102908  5.218027   \n",
      "906 -1.820827  0.122169    5.122788     8.669970  30.163675  6.098207   \n",
      "907  0.636622  0.733071    4.538438     7.607408  32.384390  4.629289   \n",
      "\n",
      "      avg logE    std DF0   std DDF0  std Jitter  ...  skewness ppq  \\\n",
      "0   -16.512226  35.304337  57.987297    8.968350  ...      3.391875   \n",
      "1   -13.245911   6.097169   9.857866    4.794277  ...      3.058296   \n",
      "2   -10.875676   8.111118  11.975436    3.898147  ...      1.674939   \n",
      "3    -7.526506   9.785387  15.212931    4.713338  ...      2.213344   \n",
      "4    -9.414922   8.065095  11.719486    4.989342  ...      1.634488   \n",
      "..         ...        ...        ...         ...  ...           ...   \n",
      "903 -11.580342  10.079699  16.718985    6.515853  ...      2.263532   \n",
      "904 -19.548064  26.656013  42.134052    6.439918  ...      2.483731   \n",
      "905 -18.396818  28.518696  41.544937    7.292895  ...      2.464380   \n",
      "906 -17.192114  36.072479  55.329350    9.457785  ...      3.199109   \n",
      "907 -19.246596  26.820059  40.212326    6.673303  ...      2.143424   \n",
      "\n",
      "     skewness logE  kurtosis DF0  kurtosis DDF0  kurtosis Jitter  \\\n",
      "0        -1.205635      7.724217       4.350932         7.749430   \n",
      "1        -0.921573     11.604938      10.300984        14.345390   \n",
      "2        -1.873960      2.187703       3.670391         3.651367   \n",
      "3        -2.330441      6.501143      10.403231         9.418391   \n",
      "4        -1.224319      3.143567       1.181161         4.668349   \n",
      "..             ...           ...            ...              ...   \n",
      "903      -1.360876     11.108949      10.722021        14.936974   \n",
      "904      -0.900165      8.147568       5.443168        10.735894   \n",
      "905      -0.674735     12.534550       6.294096        15.499174   \n",
      "906      -0.546250      8.674299       7.791698         8.385483   \n",
      "907      -0.889514      6.730874       5.305741         7.482209   \n",
      "\n",
      "     kurtosis Shimmer  kurtosis apq  kurtosis ppq  kurtosis logE  class  \n",
      "0            5.685775     -0.397551     15.228683       0.258536      1  \n",
      "1            2.235236      2.677570     10.754376       0.445332      3  \n",
      "2            1.910940      1.915706      3.332235       4.019977      2  \n",
      "3           18.409950     24.050415      5.559500       6.521464      2  \n",
      "4            7.792125      6.725705      3.470329       1.123946      2  \n",
      "..                ...           ...           ...            ...    ...  \n",
      "903          0.801620      0.612567      5.509266       1.562775      2  \n",
      "904          3.349063      1.114661      5.977506       0.485805      0  \n",
      "905          4.136163     -0.972689      6.248437      -0.115393      0  \n",
      "906          4.448774     -0.803282     13.451245      -0.634404      0  \n",
      "907          1.923316     -0.485236      3.960605       1.458491      0  \n",
      "\n",
      "[904 rows x 29 columns]\n"
     ]
    }
   ],
   "source": [
    "print(dataset)"
   ]
  },
  {
   "cell_type": "code",
   "execution_count": 73,
   "id": "17a2f317-7233-410d-ac03-e44d479b553b",
   "metadata": {},
   "outputs": [
    {
     "name": "stdout",
     "output_type": "stream",
     "text": [
      "(904, 28)\n"
     ]
    }
   ],
   "source": [
    "# Separate features and target variable\n",
    "X = dataset.drop(columns=['class'])\n",
    "y = dataset['class']\n",
    "print(X.shape)"
   ]
  },
  {
   "cell_type": "code",
   "execution_count": 74,
   "id": "c01623f6-65c0-4176-abfa-13cb8970724e",
   "metadata": {},
   "outputs": [],
   "source": [
    "# Normalize the feature data\n",
    "scaler = StandardScaler()\n",
    "X_normalized = scaler.fit_transform(X)"
   ]
  },
  {
   "cell_type": "code",
   "execution_count": 75,
   "id": "c77fce6f-9a59-41a1-8ecf-8365ce8fc468",
   "metadata": {},
   "outputs": [
    {
     "name": "stdout",
     "output_type": "stream",
     "text": [
      "(904, 28)\n"
     ]
    }
   ],
   "source": [
    "print(X_normalized.shape)"
   ]
  },
  {
   "cell_type": "code",
   "execution_count": 76,
   "id": "ab4152ce-20ee-4f93-bca7-b4b658073db3",
   "metadata": {},
   "outputs": [],
   "source": [
    "# Split the data into training and testing sets\n",
    "X_train, X_test, y_train, y_test = train_test_split(X_normalized, y, test_size=0.2, random_state=42)"
   ]
  },
  {
   "cell_type": "code",
   "execution_count": 77,
   "id": "29fcf2eb-9fe7-44ba-8e69-92c61dbdf51c",
   "metadata": {},
   "outputs": [],
   "source": [
    "# Initialize and train the Random Forest Classifier\n",
    "rf_model = RandomForestClassifier(random_state=42)\n"
   ]
  },
  {
   "cell_type": "code",
   "execution_count": 78,
   "id": "5daf6ffb-b255-406b-acc9-20ae897b0699",
   "metadata": {},
   "outputs": [],
   "source": [
    "kf = KFold(n_splits=5, shuffle=True, random_state=42)\n",
    "scores = cross_val_score(rf_model, X_normalized, y, cv=kf, scoring='accuracy')"
   ]
  },
  {
   "cell_type": "code",
   "execution_count": 79,
   "id": "e69e4277-baf3-478d-b3cd-4844f7b07476",
   "metadata": {},
   "outputs": [
    {
     "name": "stdout",
     "output_type": "stream",
     "text": [
      "array([0.88950276, 0.91712707, 0.90055249, 0.91160221, 0.92777778])\n",
      "Mean Accuracy: 0.9093124616329037\n"
     ]
    }
   ],
   "source": [
    "pprint.pp(scores)\n",
    "print(\"Mean Accuracy:\", scores.mean())"
   ]
  },
  {
   "cell_type": "code",
   "execution_count": null,
   "id": "c5e52255-5282-4cab-97f1-8782c03b53ec",
   "metadata": {},
   "outputs": [],
   "source": []
  }
 ],
 "metadata": {
  "kernelspec": {
   "display_name": "Python 3 (ipykernel)",
   "language": "python",
   "name": "python3"
  },
  "language_info": {
   "codemirror_mode": {
    "name": "ipython",
    "version": 3
   },
   "file_extension": ".py",
   "mimetype": "text/x-python",
   "name": "python",
   "nbconvert_exporter": "python",
   "pygments_lexer": "ipython3",
   "version": "3.12.8"
  }
 },
 "nbformat": 4,
 "nbformat_minor": 5
}
